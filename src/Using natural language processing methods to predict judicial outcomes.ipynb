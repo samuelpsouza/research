{
  "nbformat": 4,
  "nbformat_minor": 0,
  "metadata": {
    "colab": {
      "name": "Using natural language processing methods to predict judicial outcomes.ipynb",
      "provenance": [],
      "collapsed_sections": [
        "EhOSRNuaQmmc"
      ]
    },
    "kernelspec": {
      "name": "python3",
      "display_name": "Python 3"
    },
    "language_info": {
      "name": "python"
    }
  },
  "cells": [
    {
      "cell_type": "markdown",
      "metadata": {
        "id": "4R68EvLiVZO3"
      },
      "source": [
        "## Dataset"
      ]
    },
    {
      "cell_type": "code",
      "metadata": {
        "id": "jhOiGNdhkYF6"
      },
      "source": [
        "import pandas as pd\n",
        "\n",
        "raw_data = pd.read_csv('./casosjudiciais.csv', sep=';', encoding='iso-8859-1')"
      ],
      "execution_count": 8,
      "outputs": []
    },
    {
      "cell_type": "code",
      "metadata": {
        "colab": {
          "base_uri": "https://localhost:8080/",
          "height": 310
        },
        "id": "02M45wAbVz-B",
        "outputId": "9c156655-9d00-4ef8-b6ff-b26988240ee3"
      },
      "source": [
        "raw_data.head()"
      ],
      "execution_count": 9,
      "outputs": [
        {
          "output_type": "execute_result",
          "data": {
            "text/html": [
              "<div>\n",
              "<style scoped>\n",
              "    .dataframe tbody tr th:only-of-type {\n",
              "        vertical-align: middle;\n",
              "    }\n",
              "\n",
              "    .dataframe tbody tr th {\n",
              "        vertical-align: top;\n",
              "    }\n",
              "\n",
              "    .dataframe thead th {\n",
              "        text-align: right;\n",
              "    }\n",
              "</style>\n",
              "<table border=\"1\" class=\"dataframe\">\n",
              "  <thead>\n",
              "    <tr style=\"text-align: right;\">\n",
              "      <th></th>\n",
              "      <th>classe</th>\n",
              "      <th>assunto</th>\n",
              "      <th>magistrado</th>\n",
              "      <th>comarca</th>\n",
              "      <th>foro</th>\n",
              "      <th>vara</th>\n",
              "      <th>data de disponibilizacao</th>\n",
              "      <th>texto</th>\n",
              "    </tr>\n",
              "  </thead>\n",
              "  <tbody>\n",
              "    <tr>\n",
              "      <th>0</th>\n",
              "      <td>Aï¿½ï¿½o Penal de Competï¿½ncia do Jï¿½ri</td>\n",
              "      <td>Homicï¿½dio Simples</td>\n",
              "      <td>Bruno Nascimento Troccoli</td>\n",
              "      <td>Mongaguï¿½</td>\n",
              "      <td>Foro de Mongaguï¿½</td>\n",
              "      <td>2ï¿½ Vara</td>\n",
              "      <td>09/07/2021</td>\n",
              "      <td>TRIBUNAL DE JUSTIï¿½A DO ESTADO DE Sï¿½O PAULO...</td>\n",
              "    </tr>\n",
              "    <tr>\n",
              "      <th>1</th>\n",
              "      <td>Aï¿½ï¿½o Penal - Procedimento Sumï¿½rio</td>\n",
              "      <td>Crimes de Trï¿½nsito</td>\n",
              "      <td>FABIO ANTONIO CAMARGO DANTAS</td>\n",
              "      <td>Jales</td>\n",
              "      <td>Foro de Jales</td>\n",
              "      <td>1ï¿½  Vara Criminal</td>\n",
              "      <td>09/07/2021</td>\n",
              "      <td>TRIBUNAL DE JUSTIï¿½A DO ESTADO DE Sï¿½O PAULO...</td>\n",
              "    </tr>\n",
              "    <tr>\n",
              "      <th>2</th>\n",
              "      <td>Aï¿½ï¿½o Penal de Competï¿½ncia do Jï¿½ri</td>\n",
              "      <td>Homicï¿½dio Qualificado</td>\n",
              "      <td>EMERSON TADEU PIRES DE CAMARGO</td>\n",
              "      <td>Sorocaba</td>\n",
              "      <td>Foro de Sorocaba</td>\n",
              "      <td>Vara do Jï¿½ri/Execuï¿½ï¿½es</td>\n",
              "      <td>09/07/2021</td>\n",
              "      <td>TRIBUNAL DE JUSTIï¿½A DO ESTADO DE Sï¿½O PAULO...</td>\n",
              "    </tr>\n",
              "    <tr>\n",
              "      <th>3</th>\n",
              "      <td>Aï¿½ï¿½o Penal - Procedimento Ordinï¿½rio</td>\n",
              "      <td>Furto</td>\n",
              "      <td>EDUARDO DE FRANCA HELENE</td>\n",
              "      <td>Sï¿½o Josï¿½ dos Campos</td>\n",
              "      <td>Foro de Sï¿½o Josï¿½ dos Campos</td>\n",
              "      <td>3ï¿½ Vara Criminal</td>\n",
              "      <td>08/07/2021</td>\n",
              "      <td>TRIBUNAL DE JUSTIï¿½A DO ESTADO DE Sï¿½O PAULO...</td>\n",
              "    </tr>\n",
              "    <tr>\n",
              "      <th>4</th>\n",
              "      <td>Aï¿½ï¿½o Penal - Procedimento Ordinï¿½rio</td>\n",
              "      <td>Crimes de Trï¿½nsito</td>\n",
              "      <td>Fabio Pando de Matos</td>\n",
              "      <td>Sï¿½O PAULO</td>\n",
              "      <td>Foro Central Criminal Barra Funda</td>\n",
              "      <td>10ï¿½ Vara Criminal</td>\n",
              "      <td>08/07/2021</td>\n",
              "      <td>TRIBUNAL DE JUSTIï¿½A DO ESTADO DE Sï¿½O PAULO...</td>\n",
              "    </tr>\n",
              "  </tbody>\n",
              "</table>\n",
              "</div>"
            ],
            "text/plain": [
              "                                      classe  ...                                              texto\n",
              "0  Aï¿½ï¿½o Penal de Competï¿½ncia do Jï¿½ri  ...  TRIBUNAL DE JUSTIï¿½A DO ESTADO DE Sï¿½O PAULO...\n",
              "1    Aï¿½ï¿½o Penal - Procedimento Sumï¿½rio  ...  TRIBUNAL DE JUSTIï¿½A DO ESTADO DE Sï¿½O PAULO...\n",
              "2  Aï¿½ï¿½o Penal de Competï¿½ncia do Jï¿½ri  ...  TRIBUNAL DE JUSTIï¿½A DO ESTADO DE Sï¿½O PAULO...\n",
              "3  Aï¿½ï¿½o Penal - Procedimento Ordinï¿½rio  ...  TRIBUNAL DE JUSTIï¿½A DO ESTADO DE Sï¿½O PAULO...\n",
              "4  Aï¿½ï¿½o Penal - Procedimento Ordinï¿½rio  ...  TRIBUNAL DE JUSTIï¿½A DO ESTADO DE Sï¿½O PAULO...\n",
              "\n",
              "[5 rows x 8 columns]"
            ]
          },
          "metadata": {},
          "execution_count": 9
        }
      ]
    },
    {
      "cell_type": "markdown",
      "metadata": {
        "id": "a2RX3xcbX4hg"
      },
      "source": [
        "### Tokenize"
      ]
    },
    {
      "cell_type": "code",
      "metadata": {
        "id": "ScAgs0NAX3rn"
      },
      "source": [
        "all_words = ' '.join(str([text for text in raw_data['texto']]))"
      ],
      "execution_count": 14,
      "outputs": []
    },
    {
      "cell_type": "code",
      "metadata": {
        "id": "zVCCx6erg_cO"
      },
      "source": [
        "import nltk\n",
        "\n",
        "token_space = nltk.tokenize.WhitespaceTokenizer()\n",
        "token_words = token_space.tokenize(all_words)\n",
        "frequency = nltk.FreqDist(token_words)"
      ],
      "execution_count": 18,
      "outputs": []
    },
    {
      "cell_type": "code",
      "metadata": {
        "id": "0VTDh-sCmlWp"
      },
      "source": [
        "df_frequency = pd.DataFrame({'word': list(frequency.keys()),\n",
        "                             'frequency': list(frequency.values())})\n"
      ],
      "execution_count": 21,
      "outputs": []
    },
    {
      "cell_type": "code",
      "metadata": {
        "colab": {
          "base_uri": "https://localhost:8080/",
          "height": 363
        },
        "id": "zRg01ioQu71U",
        "outputId": "c405a416-fef0-4252-b698-5855b6459f26"
      },
      "source": [
        "df_frequency.nlargest(columns = \"frequency\", n = 10)"
      ],
      "execution_count": 25,
      "outputs": [
        {
          "output_type": "execute_result",
          "data": {
            "text/html": [
              "<div>\n",
              "<style scoped>\n",
              "    .dataframe tbody tr th:only-of-type {\n",
              "        vertical-align: middle;\n",
              "    }\n",
              "\n",
              "    .dataframe tbody tr th {\n",
              "        vertical-align: top;\n",
              "    }\n",
              "\n",
              "    .dataframe thead th {\n",
              "        text-align: right;\n",
              "    }\n",
              "</style>\n",
              "<table border=\"1\" class=\"dataframe\">\n",
              "  <thead>\n",
              "    <tr style=\"text-align: right;\">\n",
              "      <th></th>\n",
              "      <th>word</th>\n",
              "      <th>frequency</th>\n",
              "    </tr>\n",
              "  </thead>\n",
              "  <tbody>\n",
              "    <tr>\n",
              "      <th>26</th>\n",
              "      <td>a</td>\n",
              "      <td>4379878</td>\n",
              "    </tr>\n",
              "    <tr>\n",
              "      <th>22</th>\n",
              "      <td>e</td>\n",
              "      <td>4232924</td>\n",
              "    </tr>\n",
              "    <tr>\n",
              "      <th>23</th>\n",
              "      <td>o</td>\n",
              "      <td>3881713</td>\n",
              "    </tr>\n",
              "    <tr>\n",
              "      <th>33</th>\n",
              "      <td>i</td>\n",
              "      <td>2594184</td>\n",
              "    </tr>\n",
              "    <tr>\n",
              "      <th>48</th>\n",
              "      <td>s</td>\n",
              "      <td>2428125</td>\n",
              "    </tr>\n",
              "    <tr>\n",
              "      <th>29</th>\n",
              "      <td>r</td>\n",
              "      <td>2332626</td>\n",
              "    </tr>\n",
              "    <tr>\n",
              "      <th>21</th>\n",
              "      <td>d</td>\n",
              "      <td>2198038</td>\n",
              "    </tr>\n",
              "    <tr>\n",
              "      <th>24</th>\n",
              "      <td>n</td>\n",
              "      <td>2017273</td>\n",
              "    </tr>\n",
              "    <tr>\n",
              "      <th>44</th>\n",
              "      <td>t</td>\n",
              "      <td>1768584</td>\n",
              "    </tr>\n",
              "    <tr>\n",
              "      <th>27</th>\n",
              "      <td>u</td>\n",
              "      <td>1485840</td>\n",
              "    </tr>\n",
              "  </tbody>\n",
              "</table>\n",
              "</div>"
            ],
            "text/plain": [
              "   word  frequency\n",
              "26    a    4379878\n",
              "22    e    4232924\n",
              "23    o    3881713\n",
              "33    i    2594184\n",
              "48    s    2428125\n",
              "29    r    2332626\n",
              "21    d    2198038\n",
              "24    n    2017273\n",
              "44    t    1768584\n",
              "27    u    1485840"
            ]
          },
          "metadata": {},
          "execution_count": 25
        }
      ]
    },
    {
      "cell_type": "code",
      "metadata": {
        "id": "2H-P6ruv2qNZ"
      },
      "source": [
        "from string import punctuation\n",
        "\n",
        "punctuations = list()\n",
        "\n",
        "for p in punctuation:\n",
        "  punctuations.append(p)"
      ],
      "execution_count": 32,
      "outputs": []
    },
    {
      "cell_type": "code",
      "metadata": {
        "colab": {
          "base_uri": "https://localhost:8080/"
        },
        "id": "zw7lhD2AzNp7",
        "outputId": "6bb17ecc-d2ef-4a1b-9e5a-8f9ce103f33f"
      },
      "source": [
        "nltk.download('stopwords')\n",
        "\n",
        "stop_words = nltk.corpus.stopwords.words('portuguese')\n",
        "stop_words = stop_words + punctuations\n",
        "processed_sentece = list()\n",
        "\n",
        "for case in raw_data['texto']:\n",
        "  new_sentence = list()\n",
        "  text_words = token_space.tokenize(str(case))\n",
        "\n",
        "  for word in text_words:\n",
        "    if word not in stop_words:\n",
        "      new_sentence.append(word)\n",
        "  processed_sentece.append(' '.join(new_sentence))"
      ],
      "execution_count": 33,
      "outputs": [
        {
          "output_type": "stream",
          "name": "stdout",
          "text": [
            "[nltk_data] Downloading package stopwords to /root/nltk_data...\n",
            "[nltk_data]   Package stopwords is already up-to-date!\n"
          ]
        }
      ]
    },
    {
      "cell_type": "code",
      "metadata": {
        "id": "SW9A5HoK4cT3"
      },
      "source": [
        "df_text = raw_data\n",
        "df_text['text_1'] = processed_sentece"
      ],
      "execution_count": 34,
      "outputs": []
    },
    {
      "cell_type": "code",
      "metadata": {
        "id": "osaIyGBJ4nPI"
      },
      "source": [
        "from sklearn.feature_extraction.text import TfidfVectorizer\n",
        "\n",
        "tfidf = TfidfVectorizer(lowercase=False, max_features=50)\n",
        "features = tfidf.fit_transform(df_text['text_1'])"
      ],
      "execution_count": 38,
      "outputs": []
    },
    {
      "cell_type": "markdown",
      "metadata": {
        "id": "xtRV4L9NQf3W"
      },
      "source": [
        "## Used algorithms"
      ]
    },
    {
      "cell_type": "markdown",
      "metadata": {
        "id": "EhOSRNuaQmmc"
      },
      "source": [
        "### Logistic Regression (TFIDF)"
      ]
    },
    {
      "cell_type": "code",
      "metadata": {
        "colab": {
          "base_uri": "https://localhost:8080/"
        },
        "id": "NPzvtRe6Bqi5",
        "outputId": "a32439eb-dd7d-4133-ce01-5a1a83427f7a"
      },
      "source": [
        "from sklearn.datasets import load_iris\n",
        "from sklearn.linear_model import LogisticRegression\n",
        "\n",
        "X, y = load_iris(return_X_y=True)\n",
        "\n",
        "logistic_regression_classifier = LogisticRegression(random_state=0).fit(X,y)\n",
        "\n",
        "logistic_regression_classifier.predict(X[:2, :])\n",
        "logistic_regression_classifier.predict_proba(X[:2, :])\n",
        "\n",
        "logistic_regression_classifier.score(X, y)"
      ],
      "execution_count": null,
      "outputs": [
        {
          "output_type": "stream",
          "name": "stderr",
          "text": [
            "/usr/local/lib/python3.7/dist-packages/sklearn/linear_model/_logistic.py:940: ConvergenceWarning: lbfgs failed to converge (status=1):\n",
            "STOP: TOTAL NO. of ITERATIONS REACHED LIMIT.\n",
            "\n",
            "Increase the number of iterations (max_iter) or scale the data as shown in:\n",
            "    https://scikit-learn.org/stable/modules/preprocessing.html\n",
            "Please also refer to the documentation for alternative solver options:\n",
            "    https://scikit-learn.org/stable/modules/linear_model.html#logistic-regression\n",
            "  extra_warning_msg=_LOGISTIC_SOLVER_CONVERGENCE_MSG)\n"
          ]
        },
        {
          "output_type": "execute_result",
          "data": {
            "text/plain": [
              "0.9733333333333334"
            ]
          },
          "metadata": {},
          "execution_count": 2
        }
      ]
    },
    {
      "cell_type": "markdown",
      "metadata": {
        "id": "Xe0UkYOnUk1T"
      },
      "source": [
        "### Linear Discriminant Analysis (TFIDF)"
      ]
    },
    {
      "cell_type": "code",
      "metadata": {
        "colab": {
          "base_uri": "https://localhost:8080/"
        },
        "id": "VCJaUtk-Uj4u",
        "outputId": "c463165e-8c1c-4912-baad-6496f131fc3a"
      },
      "source": [
        "import numpy as np\n",
        "from sklearn.discriminant_analysis import LinearDiscriminantAnalysis\n",
        "\n",
        "X = np.array([[-1, -1], [-2, -1], [-3, -2], [1, 1], [2, 1], [3, 2]])\n",
        "y = np.array([1, 1, 1, 2, 2, 2])\n",
        "\n",
        "linear_discriminant_analysis_classifier = LinearDiscriminantAnalysis().fit(X, y)\n",
        "print(linear_discriminant_analysis_classifier.predict([[-0.8, -1]]))"
      ],
      "execution_count": null,
      "outputs": [
        {
          "output_type": "stream",
          "name": "stdout",
          "text": [
            "[1]\n"
          ]
        }
      ]
    },
    {
      "cell_type": "markdown",
      "metadata": {
        "id": "IVTvFf6YUuBT"
      },
      "source": [
        "### K Nearest Neighbors"
      ]
    },
    {
      "cell_type": "code",
      "metadata": {
        "id": "EuIcxO44UxN5"
      },
      "source": [
        ""
      ],
      "execution_count": null,
      "outputs": []
    },
    {
      "cell_type": "markdown",
      "metadata": {
        "id": "Nflw6djfUxYs"
      },
      "source": [
        "### Classification and Regression Trees"
      ]
    },
    {
      "cell_type": "code",
      "metadata": {
        "id": "pYdqO0G3U1Lb"
      },
      "source": [
        ""
      ],
      "execution_count": null,
      "outputs": []
    },
    {
      "cell_type": "markdown",
      "metadata": {
        "id": "vh_0KhcIU1ZD"
      },
      "source": [
        "### Naive Bayes"
      ]
    },
    {
      "cell_type": "code",
      "metadata": {
        "id": "dOyOI3MaU4TK"
      },
      "source": [
        ""
      ],
      "execution_count": null,
      "outputs": []
    },
    {
      "cell_type": "markdown",
      "metadata": {
        "id": "W5hA8c1JU4dT"
      },
      "source": [
        "### Support Vector Machine"
      ]
    },
    {
      "cell_type": "code",
      "metadata": {
        "id": "V12pz7l7U63U"
      },
      "source": [
        ""
      ],
      "execution_count": null,
      "outputs": []
    },
    {
      "cell_type": "markdown",
      "metadata": {
        "id": "oZON_qHkU6-a"
      },
      "source": [
        "### Multilayer Perceptron"
      ]
    },
    {
      "cell_type": "code",
      "metadata": {
        "id": "X1Jek3bsVC0z"
      },
      "source": [
        ""
      ],
      "execution_count": null,
      "outputs": []
    },
    {
      "cell_type": "markdown",
      "metadata": {
        "id": "LZFZND8sVDEj"
      },
      "source": [
        "### Recurrent Neural Networks"
      ]
    },
    {
      "cell_type": "code",
      "metadata": {
        "id": "hKBP3XuiVHHM"
      },
      "source": [
        ""
      ],
      "execution_count": null,
      "outputs": []
    },
    {
      "cell_type": "markdown",
      "metadata": {
        "id": "Rj34uCnPVHUT"
      },
      "source": [
        "### Long Short Term Memory"
      ]
    },
    {
      "cell_type": "code",
      "metadata": {
        "id": "ZcHzPMVbVLfV"
      },
      "source": [
        ""
      ],
      "execution_count": null,
      "outputs": []
    },
    {
      "cell_type": "markdown",
      "metadata": {
        "id": "Rplxdy9JVLqj"
      },
      "source": [
        "### Gated Recurring Unit"
      ]
    },
    {
      "cell_type": "code",
      "metadata": {
        "id": "DTM_-OjuVQa9"
      },
      "source": [
        ""
      ],
      "execution_count": null,
      "outputs": []
    },
    {
      "cell_type": "markdown",
      "metadata": {
        "id": "PGKRz5UAVQhv"
      },
      "source": [
        "### Hierarchical Attention Networks"
      ]
    },
    {
      "cell_type": "code",
      "metadata": {
        "id": "ANmzb0KbVUTf"
      },
      "source": [
        ""
      ],
      "execution_count": null,
      "outputs": []
    }
  ]
}